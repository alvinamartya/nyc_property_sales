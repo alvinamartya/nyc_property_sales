{
 "cells": [
  {
   "cell_type": "markdown",
   "metadata": {},
   "source": [
    "# Assignment 2 - Statistical Treatment for Retail Datasets\n",
    "The goals of this project are to practice statistics in Retail Datasets. The data on this project using NYC Property Sales. And on the end of this project, we will answer the question below using statistics, as follows:\n",
    "1. Is there a price difference between properties built in 1900-2000 and those built after 2001?\n",
    "2. Is there a difference in the number of units sold depending on the building category?\n",
    "3. Are there certain trends in New York City real estate? anything better? Are any sales up/down? Are there stagnant/rising/falling prices?\n",
    "   \n",
    "## Project Instruction\n",
    "1. Download the required dataset at [NYC Property Sales](https://www.kaggle.com/datasets/new-york-city/nyc-property-sales), then save it to folder `/dataset`.\n",
    "2. Create a new notebook, then rename the file to `PYTN_2_<batch number>_<nama>`\n",
    "3. Apply statistical methods to the datasets, such as `Central Tendencies`, `Intervals`, `Hypothesis Testing`, and all statistical methods that have been studied.\n",
    "4. Collect information using your analysis."
   ]
  },
  {
   "cell_type": "markdown",
   "metadata": {},
   "source": [
    "## Project Rubric\n",
    "### Code Review\n",
    "- Measure of Central Tendency: Mean --> Implement `Mean` from specific column/data using Pandas, Numpy, or Scipy.\n",
    "- Measure of Central Tendency: Median --> Implement `Median` from specific column/data using Pandas, Numpy, or Scipy.\n",
    "- Measure of Central Tendency: Modus --> Implement `Modus` from specific column/data using Pandas, Numpy, or Scipy.\n",
    "- Measure of Spread: Range --> Implement `Range` from specific column/data using Pandas, Numpy, or Scipy.\n",
    "- Measure of Spread: Variance --> Implement `Variance` from specific column/data using Pandas, Numpy, or Scipy.\n",
    "- Measure of Spread: Standard Deviation --> Implement `Standard Deviation` from specific columns/data using Pandas, Numpy, or Scipy.\n",
    "- Probability Distribution --> Analyzing data distributions and extracting information from those distributions.\n",
    "- Confidence Intervals --> Implement `Confidence Intervals`\n",
    "- Hypothesis Testing --> Make 1 hypothesis and draw conclusions from the existing data.\n",
    "- Preprocessing --> Preprocessing the dataset before carrying out statistical processing.\n",
    "- Does the code run without any error? --> The whole code works and builds correctly.\n",
    "\n",
    "### Readability\n",
    "- Well arranged --> All cells in a notebook are well documented with a markdown on each cell for code explanation.\n",
    "\n",
    "### Analysis\n",
    "Overall Analysis --> Draw information/conclusions from the whole plot that can answer the hypothesis."
   ]
  },
  {
   "cell_type": "markdown",
   "metadata": {},
   "source": [
    "## Dataset Overview\n",
    "The [NYC Property Sales](https://www.kaggle.com/datasets/new-york-city/nyc-property-sales) dataset has columns for the location, address, type, sales price, and sale date of a building for sale. A reference to slightly more complicated columns:\n",
    "* `BOROUGH`: The area where the building is located is written with the numbers 1-5. each for Manhattan (1), Bronx (2), Brooklyn (3), Queens (4), and Staten Island (5).\n",
    "* `BLOCK; LOT`: A combination of the borough, block, and lot numbers is commonly used as a unique address for a building in New York, usually referred to as a BBL.\n",
    "* `BUILDING CLASS AT PRESENT and BUILDING CLASS AT TIME OF SALE`: Type of building for sale, apartment, house, commercial and more.\n",
    "\n",
    "Note:\n",
    "* Many sales occur at unreasonably low prices, such as $0 (free). This is a transfer transaction, parents give to children, and not a sale that shows the price of the building.\n",
    "* This dataset uses the financial definition of a building for tax purposes. When a company owns the entire building, the selling price is written as the entire price of the building, not just one unit. When a person only owns one unit in a building such as an apartment or condo, the selling price is for one unit only.\n"
   ]
  },
  {
   "cell_type": "code",
   "execution_count": null,
   "metadata": {},
   "outputs": [],
   "source": []
  }
 ],
 "metadata": {
  "kernelspec": {
   "display_name": "Python 3.10.6 64-bit",
   "language": "python",
   "name": "python3"
  },
  "language_info": {
   "name": "python",
   "version": "3.10.6"
  },
  "orig_nbformat": 4,
  "vscode": {
   "interpreter": {
    "hash": "aee8b7b246df8f9039afb4144a1f6fd8d2ca17a180786b69acc140d282b71a49"
   }
  }
 },
 "nbformat": 4,
 "nbformat_minor": 2
}
